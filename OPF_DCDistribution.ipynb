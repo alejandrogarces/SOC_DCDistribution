{
  "nbformat": 4,
  "nbformat_minor": 0,
  "metadata": {
    "colab": {
      "name": "OPF_DCDistribution.ipynb",
      "provenance": [],
      "collapsed_sections": [],
      "authorship_tag": "ABX9TyMCXveABdODNg5yrGu9Vjo2",
      "include_colab_link": true
    },
    "kernelspec": {
      "name": "python3",
      "display_name": "Python 3"
    },
    "language_info": {
      "name": "python"
    }
  },
  "cells": [
    {
      "cell_type": "markdown",
      "metadata": {
        "id": "view-in-github",
        "colab_type": "text"
      },
      "source": [
        "<a href=\"https://colab.research.google.com/github/alejandrogarces/SOC_DCDistribution/blob/main/OPF_DCDistribution.ipynb\" target=\"_parent\"><img src=\"https://colab.research.google.com/assets/colab-badge.svg\" alt=\"Open In Colab\"/></a>"
      ]
    },
    {
      "cell_type": "markdown",
      "metadata": {
        "id": "9A3fK_acd82U"
      },
      "source": [
        "**Communication-Free Distributed Optimal Power Flow in DC-Distribution Networks.**\n",
        "\n",
        "    Alejandro Garces\n",
        "    18/08/2021\n",
        "    Version 1.0"
      ]
    },
    {
      "cell_type": "code",
      "metadata": {
        "id": "lzCIB8ekd4Q9"
      },
      "source": [
        "import numpy as np\n",
        "import pandas as pd\n",
        "import cvxpy as cvx"
      ],
      "execution_count": 4,
      "outputs": []
    },
    {
      "cell_type": "code",
      "metadata": {
        "id": "1u2lB1X9mTcr"
      },
      "source": [
        "\" Parametros de la red \"\n",
        "# Envio Recibo rkm d pmax\n",
        "grid = [[1,  2,  0.0053, 0.70,0.0],\n",
        "        [2,  3,  0.0054, 0.00,0.0],\n",
        "        [3,  4,  0.0054, 0.36,0.0],\n",
        "        [4,  5,  0.0063, 0.04,0.0],\n",
        "        [4,  6,  0.0051, 0.36,0.0],\n",
        "        [3,  7,  0.0037, 0.00,0.0],\n",
        "        [7,  8,  0.0079, 0.32,0.0],\n",
        "        [7,  9,  0.0072, 0.80,1.5],\n",
        "        [3,  10, 0.0053, 0.00,0.0],\n",
        "        [10, 11, 0.0038, 0.45,0.0],         \n",
        "        [11, 12, 0.0079, 0.68,2.5],\n",
        "        [11, 13, 0.0078, 0.10,0.0],\n",
        "        [10, 14, 0.0083, 0.00,0.0],\n",
        "        [14, 15, 0.0065, 0.22,0.0],\n",
        "        [15, 16, 0.0064, 0.23,0.0],\n",
        "        [16, 17, 0.0074, 0.43,0.0],\n",
        "        [16, 18, 0.0081, 0.34,2.5],\n",
        "        [14, 19, 0.0078, 0.09,0.0],\n",
        "        [19, 20, 0.0084, 0.21,0.0],\n",
        "        [19, 21, 0.0082, 0.21,2.0]] "
      ],
      "execution_count": 1,
      "outputs": []
    },
    {
      "cell_type": "code",
      "metadata": {
        "id": "GIEyj9N2Aw59"
      },
      "source": [
        "\"Crear diccionario con: (envio,recibo): gkm, demanda, pmax, id_gen(si pm>0)\"\n",
        "num_lines = len(grid)\n",
        "num_nodes = num_lines + 1\n",
        "num_gen = 0\n",
        "feeder = {}\n",
        "for k in range(num_lines):\n",
        "  n1 = grid[k][0]-1\n",
        "  n2 = grid[k][1]-1\n",
        "  gkm = 1/grid[k][2]\n",
        "  dm = grid[k][3]\n",
        "  pmax = grid[k][4] \n",
        "  if pmax>0: \n",
        "     feeder[(n1,n2)] = (k,gkm,dm,(pmax,num_gen))\n",
        "     num_gen = num_gen+1\n",
        "  else: feeder[(n1,n2)] = (k,gkm,dm,'None')"
      ],
      "execution_count": 2,
      "outputs": []
    },
    {
      "cell_type": "code",
      "metadata": {
        "colab": {
          "base_uri": "https://localhost:8080/"
        },
        "id": "a9y0rBmOEYUj",
        "outputId": "5f039914-b459-4f3c-dc1e-4e5500cf2cb1"
      },
      "source": [
        "\"Modelo SOC\"\n",
        "u = cvx.Variable(num_nodes)      # v^2\n",
        "s = cvx.Variable(num_gen)        # potencia generada\n",
        "p_from = cvx.Variable(num_lines)   # potencia en las lineas direccion km\n",
        "p_to   = cvx.Variable(num_lines)  # potencia en las lineas direccion mk\n",
        "w = cvx.Variable(num_lines)      # variable auxiliar vk*vm\n",
        "EqN = num_nodes*[0]\n",
        "for (k,m) in feeder:\n",
        "  line,gkm,dm,gen = feeder[(k,m)]\n",
        "  EqN[m] = EqN[m] + p_to[line]\n",
        "  EqN[k] = EqN[k] - p_from[line]\n",
        "\n",
        "res = [u[0] == 1.0]\n",
        "for (k,m) in feeder:\n",
        "  line,gkm,dm,gen = feeder[(k,m)]\n",
        "  res += [cvx.SOC(u[k]+u[m],cvx.vstack([2*w[line],u[k]-u[m]]))]\n",
        "  res += [gkm*w[line] ==  p_to[line] + gkm*u[m]]\n",
        "  res += [gkm*u[k]    ==  p_from[line] + gkm*w[line]]\n",
        "  res += [u[m] >= 0.95**2]\n",
        "  res += [u[m] <= 1.05**2]\n",
        "  if gen=='None':\n",
        "    res += [EqN[m] == dm]\n",
        "  else:\n",
        "    pmax,k_gen = gen\n",
        "    res += [EqN[m] == dm - s[k_gen]]\n",
        "    res += [s[k_gen] >= 0]\n",
        "    res += [s[k_gen] <= pmax]    \n",
        "  \n",
        "obj = cvx.Minimize(cvx.sum(p_from)-cvx.sum(p_to))    \n",
        "OPFSOC = cvx.Problem(obj,res)\n",
        "OPFSOC.solve()\n",
        "print('Load-flow in DC grids using second-order cone optimization')\n",
        "print('Power loss',obj.value,OPFSOC.status)\n",
        "print('Generation', s.value)"
      ],
      "execution_count": 6,
      "outputs": [
        {
          "output_type": "stream",
          "text": [
            "Load-flow in DC grids using second-order cone optimization\n",
            "Power loss 0.026129308164349385 optimal\n",
            "Generation [1.49999996 1.34962484 1.08072749 0.69858989]\n"
          ],
          "name": "stdout"
        }
      ]
    },
    {
      "cell_type": "code",
      "metadata": {
        "colab": {
          "base_uri": "https://localhost:8080/"
        },
        "id": "D2n8FA9j0sN_",
        "outputId": "08ef6671-4bd5-4f2f-9b7c-6e8d4c9030bc"
      },
      "source": [
        "\"Flujo de carga\"\n",
        "g_bus = np.zeros((num_nodes,num_nodes))\n",
        "d_bus = np.zeros(num_nodes)\n",
        "id_gen = {}\n",
        "for (k,m) in feeder:\n",
        "  line,gkm,dm,gen = feeder[(k,m)]\n",
        "  g_bus[k,k] = g_bus[k,k] + gkm\n",
        "  g_bus[k,m] = g_bus[k,m] - gkm\n",
        "  g_bus[m,k] = g_bus[m,k] - gkm\n",
        "  g_bus[m,m] = g_bus[m,m] + gkm\n",
        "  d_bus[m] = dm\n",
        "  if not(gen=='None'):\n",
        "    id_gen[m] = gen[1]\n",
        "g_N0 = g_bus[1:num_nodes,0]\n",
        "g_NN = g_bus[1:num_nodes,1:num_nodes]\n",
        "z_NN = np.linalg.inv(g_NN)\n",
        "def load_flow(p_gen):\n",
        "  v0 = 1\n",
        "  p_node = -d_bus\n",
        "  for m in id_gen:\n",
        "    p_node[m] = p_node[m] + p_gen[id_gen[m]]\n",
        "  v_node = np.ones(num_nodes)*v0\n",
        "  i_node = p_node[1:num_nodes]/v_node[1:num_nodes]\n",
        "  err = np.linalg.norm(i_node - g_N0*v0 - g_NN@v_node[1:num_nodes])\n",
        "  while err > 1E-10:    \n",
        "    v_node[1:num_nodes] = z_NN@(i_node - g_N0*v0) \n",
        "    i_node = p_node[1:num_nodes]/v_node[1:num_nodes]    \n",
        "    err = np.linalg.norm(i_node - g_N0*v0 - g_NN@v_node[1:num_nodes])\n",
        "  p_loss = v_node.T@g_bus@v_node\n",
        "  i_line = np.zeros(num_lines)\n",
        "  for (k,m) in feeder:\n",
        "     line,gkm,dm,gen = feeder[(k,m)]\n",
        "     i_line[line] = gkm*(v_node[k]-v_node[m])\n",
        "  return p_loss, err, v_node, i_line\n",
        "p_loss, err, v_node, i_line = load_flow([1.5, 1.35, 1.08, 0.7])  \n",
        "i_node = g_bus@v_node\n",
        "resultados = pd.DataFrame()\n",
        "resultados['Voltage'] = v_node\n",
        "resultados['Load'] = d_bus\n",
        "resultados['Generation'] = np.round(v_node*i_node,4)+d_bus\n",
        "print(resultados)"
      ],
      "execution_count": 12,
      "outputs": [
        {
          "output_type": "stream",
          "text": [
            "     Voltage  Load  Generation\n",
            "0   1.000000  0.00      0.9361\n",
            "1   0.995039  0.70      0.0000\n",
            "2   0.993782  0.00      0.0000\n",
            "3   0.989632  0.36      0.0000\n",
            "4   0.989377  0.04      0.0000\n",
            "5   0.987773  0.36      0.0000\n",
            "6   0.995179  0.00      0.0000\n",
            "7   0.992632  0.32      0.0000\n",
            "8   1.000218  0.80      1.5000\n",
            "9   0.994623  0.00      0.0000\n",
            "10  0.995067  0.45      0.0000\n",
            "11  1.000358  0.68      1.3500\n",
            "12  0.994282  0.10      0.0000\n",
            "13  0.994968  0.00      0.0000\n",
            "14  0.994014  0.22      0.0000\n",
            "15  0.994491  0.23      0.0000\n",
            "16  0.991281  0.43      0.0000\n",
            "17  1.000482  0.34      1.0800\n",
            "18  0.996437  0.09      0.0000\n",
            "19  0.994663  0.21      0.0000\n",
            "20  1.000453  0.21      0.7000\n"
          ],
          "name": "stdout"
        }
      ]
    }
  ]
}